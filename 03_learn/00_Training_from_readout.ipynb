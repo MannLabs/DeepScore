{
 "cells": [
  {
   "attachments": {},
   "cell_type": "markdown",
   "metadata": {},
   "source": [
    "# Readout and Training\n",
    "\n",
    "- This Notebook takes the annotated data\n",
    "- Slices out a 3D data cube\n",
    "- Tries to train a 3D-CNN"
   ]
  },
  {
   "cell_type": "code",
   "execution_count": 11,
   "metadata": {},
   "outputs": [],
   "source": [
    "import yaml\n",
    "import pandas as pd\n",
    "\n",
    "annotation = pd.read_csv('F:/2022-08-24_session.txt', sep='\\t')\n",
    "annotation.columns = ['date', 'name','index','score']"
   ]
  },
  {
   "cell_type": "markdown",
   "metadata": {},
   "source": []
  },
  {
   "cell_type": "code",
   "execution_count": 12,
   "metadata": {},
   "outputs": [],
   "source": [
    "with open('F:/2022-08-24_session.yaml') as f:\n",
    "    metadata = yaml.safe_load(f)"
   ]
  },
  {
   "cell_type": "code",
   "execution_count": 13,
   "metadata": {},
   "outputs": [
    {
     "data": {
      "text/plain": [
       "{'annotation_file': '2022-08-24_session.txt',\n",
       " 'file_raw': 'C:/Users/admin/Downloads/HeLa_Evosep_diaPASEF_RAW/60SPD_py8/20200428_Evosep_60SPD_SG06-16_MLHeLa_200ng_py8_S3-A4_1_2450.d',\n",
       " 'file_results': 'F:/DIANN_Test/fdr_005/report.tsv',\n",
       " 'hash_raw': '5a000a81aaed9bb749c83ec2a200c92b83d2c563cca3442664a13455d20427ae',\n",
       " 'hash_results': 'f0b42fe56828e3e80bb4b80421e8edda00bc3389807521a118621cb76ffb0699',\n",
       " 'tol_mob': 0.05,\n",
       " 'tol_mz_ppm': 10,\n",
       " 'tol_rt': 30,\n",
       " 'ver_alphabase': '0.1.3',\n",
       " 'ver_alphatims': '1.0.0'}"
      ]
     },
     "execution_count": 13,
     "metadata": {},
     "output_type": "execute_result"
    }
   ],
   "source": [
    "metadata"
   ]
  },
  {
   "cell_type": "markdown",
   "metadata": {},
   "source": []
  },
  {
   "cell_type": "code",
   "execution_count": 14,
   "metadata": {},
   "outputs": [],
   "source": [
    "from utils import RawResults"
   ]
  },
  {
   "cell_type": "code",
   "execution_count": 15,
   "metadata": {},
   "outputs": [
    {
     "name": "stderr",
     "output_type": "stream",
     "text": [
      "100%|██████████| 11864/11864 [00:03<00:00, 3161.46it/s]\n"
     ]
    }
   ],
   "source": [
    "c = RawResults(metadata['file_raw'], metadata['file_results'])"
   ]
  },
  {
   "cell_type": "markdown",
   "metadata": {},
   "source": []
  },
  {
   "cell_type": "code",
   "execution_count": 16,
   "metadata": {},
   "outputs": [],
   "source": [
    "import numpy as np\n",
    "from tqdm import tqdm as tqdm"
   ]
  },
  {
   "cell_type": "code",
   "execution_count": 17,
   "metadata": {},
   "outputs": [],
   "source": [
    "import scipy"
   ]
  },
  {
   "cell_type": "code",
   "execution_count": 18,
   "metadata": {},
   "outputs": [
    {
     "name": "stderr",
     "output_type": "stream",
     "text": [
      "100%|██████████| 561/561 [1:13:54<00:00,  7.90s/it]\n"
     ]
    }
   ],
   "source": [
    "im_size = 128\n",
    "\n",
    "X = []\n",
    "y = [] \n",
    "\n",
    "ions = ['prec']\n",
    "\n",
    "for i in range(10):\n",
    "    ions.append(f'b_{i+1}')\n",
    "for i in range(11):\n",
    "    ions.append(f'y_{i+1}')\n",
    "\n",
    "\n",
    "for i in tqdm(range(len(annotation))):\n",
    "\n",
    "    data_cube = []\n",
    "\n",
    "    row = annotation.iloc[i]\n",
    "\n",
    "    img_dict = c.img_from_index(row['index'], im_size)\n",
    "\n",
    "    name = list(img_dict.keys())[0].split(' ')[1]\n",
    "\n",
    "    for ion in ions:\n",
    "        dict_name = ion+' '+name\n",
    "\n",
    "        \n",
    "        if dict_name in img_dict:\n",
    "\n",
    "            to_add = img_dict[dict_name]\n",
    "\n",
    "            if True:\n",
    "                if len(data_cube) > 0: #Attempt to use correlations\n",
    "                    to_add = scipy.signal.correlate2d(data_cube[0], to_add, mode='same')\n",
    "\n",
    "\n",
    "            data_cube.append(to_add)\n",
    "        else:\n",
    "            data_cube.append(np.zeros((im_size, im_size)))\n",
    "    \n",
    "    X.append(np.stack(data_cube, axis=2))\n",
    "\n",
    "    y.append(float(row['score'])>0)\n",
    "\n",
    "    #y.append(float(row['score']))"
   ]
  },
  {
   "cell_type": "code",
   "execution_count": 30,
   "metadata": {},
   "outputs": [
    {
     "name": "stderr",
     "output_type": "stream",
     "text": [
      "100%|██████████| 561/561 [00:00<00:00, 7043.28it/s]\n"
     ]
    }
   ],
   "source": [
    "im_size = 128\n",
    "\n",
    "y = [] \n",
    "\n",
    "ions = ['prec']\n",
    "\n",
    "for i in range(10):\n",
    "    ions.append(f'b_{i+1}')\n",
    "for i in range(11):\n",
    "    ions.append(f'y_{i+1}')\n",
    "\n",
    "\n",
    "for i in tqdm(range(len(annotation))):\n",
    "\n",
    "    data_cube = []\n",
    "    row = annotation.iloc[i]\n",
    "    y.append(float(row['score']))\n",
    "\n",
    "    #y.append(float(row['score']))"
   ]
  },
  {
   "cell_type": "code",
   "execution_count": 20,
   "metadata": {},
   "outputs": [],
   "source": [
    "import matplotlib.pyplot as plt"
   ]
  },
  {
   "cell_type": "code",
   "execution_count": 21,
   "metadata": {},
   "outputs": [],
   "source": [
    "X = np.array(X)\n",
    "y = np.array(y)"
   ]
  },
  {
   "cell_type": "code",
   "execution_count": 33,
   "metadata": {},
   "outputs": [],
   "source": [
    "np.savez('training_data.npz',X=X,y=y)"
   ]
  },
  {
   "cell_type": "code",
   "execution_count": 22,
   "metadata": {},
   "outputs": [],
   "source": [
    "from sklearn.model_selection import train_test_split\n",
    "\n",
    "X_train, X_test, y_train, y_test = train_test_split(\n",
    "    X, y, test_size=0.33, random_state=42)"
   ]
  },
  {
   "cell_type": "code",
   "execution_count": 23,
   "metadata": {},
   "outputs": [],
   "source": [
    "import matplotlib.pyplot as plt\n",
    "import numpy as np\n",
    "import PIL\n",
    "import tensorflow as tf\n",
    "\n",
    "from tensorflow import keras\n",
    "from tensorflow.keras import layers\n",
    "from tensorflow.keras.models import Sequential\n"
   ]
  },
  {
   "cell_type": "code",
   "execution_count": 24,
   "metadata": {},
   "outputs": [
    {
     "name": "stdout",
     "output_type": "stream",
     "text": [
      "Model: \"sequential\"\n",
      "_________________________________________________________________\n",
      " Layer (type)                Output Shape              Param #   \n",
      "=================================================================\n",
      " rescaling (Rescaling)       (None, 128, 128, 22)      0         \n",
      "                                                                 \n",
      " conv2d (Conv2D)             (None, 128, 128, 16)      3184      \n",
      "                                                                 \n",
      " max_pooling2d (MaxPooling2D  (None, 64, 64, 16)       0         \n",
      " )                                                               \n",
      "                                                                 \n",
      " conv2d_1 (Conv2D)           (None, 64, 64, 32)        4640      \n",
      "                                                                 \n",
      " max_pooling2d_1 (MaxPooling  (None, 32, 32, 32)       0         \n",
      " 2D)                                                             \n",
      "                                                                 \n",
      " conv2d_2 (Conv2D)           (None, 32, 32, 64)        18496     \n",
      "                                                                 \n",
      " max_pooling2d_2 (MaxPooling  (None, 16, 16, 64)       0         \n",
      " 2D)                                                             \n",
      "                                                                 \n",
      " flatten (Flatten)           (None, 16384)             0         \n",
      "                                                                 \n",
      " dropout (Dropout)           (None, 16384)             0         \n",
      "                                                                 \n",
      " dense (Dense)               (None, 128)               2097280   \n",
      "                                                                 \n",
      " dense_1 (Dense)             (None, 1)                 129       \n",
      "                                                                 \n",
      "=================================================================\n",
      "Total params: 2,123,729\n",
      "Trainable params: 2,123,729\n",
      "Non-trainable params: 0\n",
      "_________________________________________________________________\n"
     ]
    }
   ],
   "source": [
    "\n",
    "if False:\n",
    "  num_classes = 1\n",
    "\n",
    "\n",
    "  model = Sequential([\n",
    "    layers.Rescaling(1./255, input_shape=(im_size, im_size, X.shape[-1])),\n",
    "    layers.Conv2D(16, 3, padding='same', activation='relu'),\n",
    "    layers.MaxPooling2D(),\n",
    "    layers.Conv2D(32, 3, padding='same', activation='relu'),\n",
    "    layers.MaxPooling2D(),\n",
    "    layers.Conv2D(64, 3, padding='same', activation='relu'),\n",
    "    layers.MaxPooling2D(),\n",
    "    layers.Flatten(),\n",
    "    layers.Dropout(0.5),\n",
    "    layers.Dense(128, activation='relu'),\n",
    "    layers.Dense(num_classes)\n",
    "  ])\n",
    "\n",
    "  model.compile(optimizer='adam',\n",
    "                loss=tf.keras.losses.BinaryCrossentropy(from_logits=True),\n",
    "                metrics=['accuracy'])\n",
    "\n",
    "  model.summary()\n",
    "\n",
    "num_classes = 1\n",
    "\n",
    "\n",
    "model = Sequential([\n",
    "  layers.Rescaling(1./255, input_shape=(im_size, im_size, X.shape[-1])),\n",
    "  layers.Conv2D(16, 3, padding='same', activation='relu'),\n",
    "  layers.MaxPooling2D(),\n",
    "  layers.Conv2D(32, 3, padding='same', activation='relu'),\n",
    "  layers.MaxPooling2D(),\n",
    "  layers.Conv2D(64, 3, padding='same', activation='relu'),\n",
    "  layers.MaxPooling2D(),\n",
    "  layers.Flatten(),\n",
    "  layers.Dropout(0.5),\n",
    "  layers.Dense(128, activation='relu'),\n",
    "  layers.Dense(1, activation='linear')\n",
    "])\n",
    "\n",
    "model.compile(optimizer='adam',\n",
    "              loss=\"mean_absolute_percentage_error\",\n",
    "              metrics=['accuracy', 'mae','mape'])\n",
    "\n",
    "model.summary()\n"
   ]
  },
  {
   "cell_type": "code",
   "execution_count": 25,
   "metadata": {},
   "outputs": [
    {
     "name": "stdout",
     "output_type": "stream",
     "text": [
      "Model: \"3dcnn\"\n",
      "_________________________________________________________________\n",
      " Layer (type)                Output Shape              Param #   \n",
      "=================================================================\n",
      " input_1 (InputLayer)        [(None, 128, 128, 22, 1)  0         \n",
      "                             ]                                   \n",
      "                                                                 \n",
      " conv3d (Conv3D)             (None, 126, 126, 20, 64)  1792      \n",
      "                                                                 \n",
      " max_pooling3d (MaxPooling3D  (None, 63, 63, 10, 64)   0         \n",
      " )                                                               \n",
      "                                                                 \n",
      " batch_normalization (BatchN  (None, 63, 63, 10, 64)   256       \n",
      " ormalization)                                                   \n",
      "                                                                 \n",
      " conv3d_1 (Conv3D)           (None, 61, 61, 8, 64)     110656    \n",
      "                                                                 \n",
      " max_pooling3d_1 (MaxPooling  (None, 30, 30, 4, 64)    0         \n",
      " 3D)                                                             \n",
      "                                                                 \n",
      " batch_normalization_1 (Batc  (None, 30, 30, 4, 64)    256       \n",
      " hNormalization)                                                 \n",
      "                                                                 \n",
      " conv3d_2 (Conv3D)           (None, 28, 28, 2, 128)    221312    \n",
      "                                                                 \n",
      " max_pooling3d_2 (MaxPooling  (None, 14, 14, 1, 128)   0         \n",
      " 3D)                                                             \n",
      "                                                                 \n",
      " batch_normalization_2 (Batc  (None, 14, 14, 1, 128)   512       \n",
      " hNormalization)                                                 \n",
      "                                                                 \n",
      " global_average_pooling3d (G  (None, 128)              0         \n",
      " lobalAveragePooling3D)                                          \n",
      "                                                                 \n",
      " dense_2 (Dense)             (None, 512)               66048     \n",
      "                                                                 \n",
      " dropout_1 (Dropout)         (None, 512)               0         \n",
      "                                                                 \n",
      " dense_3 (Dense)             (None, 1)                 513       \n",
      "                                                                 \n",
      "=================================================================\n",
      "Total params: 401,345\n",
      "Trainable params: 400,833\n",
      "Non-trainable params: 512\n",
      "_________________________________________________________________\n",
      "Model: \"3dcnn\"\n",
      "_________________________________________________________________\n",
      " Layer (type)                Output Shape              Param #   \n",
      "=================================================================\n",
      " input_1 (InputLayer)        [(None, 128, 128, 22, 1)  0         \n",
      "                             ]                                   \n",
      "                                                                 \n",
      " conv3d (Conv3D)             (None, 126, 126, 20, 64)  1792      \n",
      "                                                                 \n",
      " max_pooling3d (MaxPooling3D  (None, 63, 63, 10, 64)   0         \n",
      " )                                                               \n",
      "                                                                 \n",
      " batch_normalization (BatchN  (None, 63, 63, 10, 64)   256       \n",
      " ormalization)                                                   \n",
      "                                                                 \n",
      " conv3d_1 (Conv3D)           (None, 61, 61, 8, 64)     110656    \n",
      "                                                                 \n",
      " max_pooling3d_1 (MaxPooling  (None, 30, 30, 4, 64)    0         \n",
      " 3D)                                                             \n",
      "                                                                 \n",
      " batch_normalization_1 (Batc  (None, 30, 30, 4, 64)    256       \n",
      " hNormalization)                                                 \n",
      "                                                                 \n",
      " conv3d_2 (Conv3D)           (None, 28, 28, 2, 128)    221312    \n",
      "                                                                 \n",
      " max_pooling3d_2 (MaxPooling  (None, 14, 14, 1, 128)   0         \n",
      " 3D)                                                             \n",
      "                                                                 \n",
      " batch_normalization_2 (Batc  (None, 14, 14, 1, 128)   512       \n",
      " hNormalization)                                                 \n",
      "                                                                 \n",
      " global_average_pooling3d (G  (None, 128)              0         \n",
      " lobalAveragePooling3D)                                          \n",
      "                                                                 \n",
      " dense_2 (Dense)             (None, 512)               66048     \n",
      "                                                                 \n",
      " dropout_1 (Dropout)         (None, 512)               0         \n",
      "                                                                 \n",
      " dense_3 (Dense)             (None, 1)                 513       \n",
      "                                                                 \n",
      "=================================================================\n",
      "Total params: 401,345\n",
      "Trainable params: 400,833\n",
      "Non-trainable params: 512\n",
      "_________________________________________________________________\n",
      "Model: \"3dcnn\"\n",
      "_________________________________________________________________\n",
      " Layer (type)                Output Shape              Param #   \n",
      "=================================================================\n",
      " input_2 (InputLayer)        [(None, 128, 128, 22, 1)  0         \n",
      "                             ]                                   \n",
      "                                                                 \n",
      " conv3d_3 (Conv3D)           (None, 126, 126, 20, 64)  1792      \n",
      "                                                                 \n",
      " max_pooling3d_3 (MaxPooling  (None, 63, 63, 10, 64)   0         \n",
      " 3D)                                                             \n",
      "                                                                 \n",
      " batch_normalization_3 (Batc  (None, 63, 63, 10, 64)   256       \n",
      " hNormalization)                                                 \n",
      "                                                                 \n",
      " conv3d_4 (Conv3D)           (None, 61, 61, 8, 64)     110656    \n",
      "                                                                 \n",
      " max_pooling3d_4 (MaxPooling  (None, 30, 30, 4, 64)    0         \n",
      " 3D)                                                             \n",
      "                                                                 \n",
      " batch_normalization_4 (Batc  (None, 30, 30, 4, 64)    256       \n",
      " hNormalization)                                                 \n",
      "                                                                 \n",
      " conv3d_5 (Conv3D)           (None, 28, 28, 2, 128)    221312    \n",
      "                                                                 \n",
      " max_pooling3d_5 (MaxPooling  (None, 14, 14, 1, 128)   0         \n",
      " 3D)                                                             \n",
      "                                                                 \n",
      " batch_normalization_5 (Batc  (None, 14, 14, 1, 128)   512       \n",
      " hNormalization)                                                 \n",
      "                                                                 \n",
      " global_average_pooling3d_1   (None, 128)              0         \n",
      " (GlobalAveragePooling3D)                                        \n",
      "                                                                 \n",
      " dense_4 (Dense)             (None, 512)               66048     \n",
      "                                                                 \n",
      " dropout_2 (Dropout)         (None, 512)               0         \n",
      "                                                                 \n",
      " dense_5 (Dense)             (None, 1)                 513       \n",
      "                                                                 \n",
      "=================================================================\n",
      "Total params: 401,345\n",
      "Trainable params: 400,833\n",
      "Non-trainable params: 512\n",
      "_________________________________________________________________\n",
      "Model: \"3dcnn\"\n",
      "_________________________________________________________________\n",
      " Layer (type)                Output Shape              Param #   \n",
      "=================================================================\n",
      " input_2 (InputLayer)        [(None, 128, 128, 22, 1)  0         \n",
      "                             ]                                   \n",
      "                                                                 \n",
      " conv3d_3 (Conv3D)           (None, 126, 126, 20, 64)  1792      \n",
      "                                                                 \n",
      " max_pooling3d_3 (MaxPooling  (None, 63, 63, 10, 64)   0         \n",
      " 3D)                                                             \n",
      "                                                                 \n",
      " batch_normalization_3 (Batc  (None, 63, 63, 10, 64)   256       \n",
      " hNormalization)                                                 \n",
      "                                                                 \n",
      " conv3d_4 (Conv3D)           (None, 61, 61, 8, 64)     110656    \n",
      "                                                                 \n",
      " max_pooling3d_4 (MaxPooling  (None, 30, 30, 4, 64)    0         \n",
      " 3D)                                                             \n",
      "                                                                 \n",
      " batch_normalization_4 (Batc  (None, 30, 30, 4, 64)    256       \n",
      " hNormalization)                                                 \n",
      "                                                                 \n",
      " conv3d_5 (Conv3D)           (None, 28, 28, 2, 128)    221312    \n",
      "                                                                 \n",
      " max_pooling3d_5 (MaxPooling  (None, 14, 14, 1, 128)   0         \n",
      " 3D)                                                             \n",
      "                                                                 \n",
      " batch_normalization_5 (Batc  (None, 14, 14, 1, 128)   512       \n",
      " hNormalization)                                                 \n",
      "                                                                 \n",
      " global_average_pooling3d_1   (None, 128)              0         \n",
      " (GlobalAveragePooling3D)                                        \n",
      "                                                                 \n",
      " dense_4 (Dense)             (None, 512)               66048     \n",
      "                                                                 \n",
      " dropout_2 (Dropout)         (None, 512)               0         \n",
      "                                                                 \n",
      " dense_5 (Dense)             (None, 1)                 513       \n",
      "                                                                 \n",
      "=================================================================\n",
      "Total params: 401,345\n",
      "Trainable params: 400,833\n",
      "Non-trainable params: 512\n",
      "_________________________________________________________________\n"
     ]
    }
   ],
   "source": [
    "\n",
    "if True:\n",
    "    inputs = keras.Input((im_size, im_size, X.shape[-1], 1))\n",
    "\n",
    "    x = layers.Conv3D(filters=64, kernel_size=3, activation=\"relu\")(inputs)\n",
    "    x = layers.MaxPool3D(pool_size=2)(x)\n",
    "    x = layers.BatchNormalization()(x)\n",
    "\n",
    "    x = layers.Conv3D(filters=64, kernel_size=3, activation=\"relu\")(x)\n",
    "    x = layers.MaxPool3D(pool_size=2)(x)\n",
    "    x = layers.BatchNormalization()(x)\n",
    "\n",
    "    x = layers.Conv3D(filters=128, kernel_size=3, activation=\"relu\")(x)\n",
    "    x = layers.MaxPool3D(pool_size=2)(x)\n",
    "    x = layers.BatchNormalization()(x)\n",
    "\n",
    "    #x = layers.Conv3D(filters=256, kernel_size=3, activation=\"relu\")(x)\n",
    "    #x = layers.MaxPool3D(pool_size=2)(x)\n",
    "    #x = layers.BatchNormalization()(x)\n",
    "\n",
    "    x = layers.GlobalAveragePooling3D()(x)\n",
    "    x = layers.Dense(units=512, activation=\"relu\")(x)\n",
    "    x = layers.Dropout(0.3)(x)\n",
    "\n",
    "    outputs = layers.Dense(units=1, activation=\"sigmoid\")(x)\n",
    "\n",
    "    # Define the model.\n",
    "    model = keras.Model(inputs, outputs, name=\"3dcnn\")\n",
    "\n",
    "\n",
    "    model.summary()\n",
    "\n",
    "    model.compile(optimizer='adam',\n",
    "                loss=tf.keras.losses.BinaryCrossentropy(from_logits=False),\n",
    "                metrics=['accuracy'])\n",
    "\n",
    "    model.summary()\n",
    "\n",
    "\n",
    "\n",
    "if True:\n",
    "    inputs = keras.Input((im_size, im_size, X.shape[-1], 1))\n",
    "\n",
    "    x = layers.Conv3D(filters=64, kernel_size=3, activation=\"relu\")(inputs)\n",
    "    x = layers.MaxPool3D(pool_size=2)(x)\n",
    "    x = layers.BatchNormalization()(x)\n",
    "\n",
    "    x = layers.Conv3D(filters=64, kernel_size=3, activation=\"relu\")(x)\n",
    "    x = layers.MaxPool3D(pool_size=2)(x)\n",
    "    x = layers.BatchNormalization()(x)\n",
    "\n",
    "    x = layers.Conv3D(filters=128, kernel_size=3, activation=\"relu\")(x)\n",
    "    x = layers.MaxPool3D(pool_size=2)(x)\n",
    "    x = layers.BatchNormalization()(x)\n",
    "\n",
    "    #x = layers.Conv3D(filters=256, kernel_size=3, activation=\"relu\")(x)\n",
    "    #x = layers.MaxPool3D(pool_size=2)(x)\n",
    "    #x = layers.BatchNormalization()(x)\n",
    "\n",
    "    x = layers.GlobalAveragePooling3D()(x)\n",
    "    x = layers.Dense(units=512, activation=\"relu\")(x)\n",
    "    x = layers.Dropout(0.3)(x)\n",
    "\n",
    "    outputs = layers.Dense(units=1, activation=\"linear\")(x)\n",
    "\n",
    "    # Define the model.\n",
    "    model = keras.Model(inputs, outputs, name=\"3dcnn\")\n",
    "\n",
    "\n",
    "    model.summary()\n",
    "\n",
    "    model.compile(optimizer='adam',\n",
    "                loss=\"mean_absolute_percentage_error\",\n",
    "                metrics=['accuracy', 'mae','mape'])\n",
    "\n",
    "    model.summary()"
   ]
  },
  {
   "cell_type": "markdown",
   "metadata": {},
   "source": []
  },
  {
   "cell_type": "code",
   "execution_count": 26,
   "metadata": {},
   "outputs": [
    {
     "name": "stdout",
     "output_type": "stream",
     "text": [
      "Epoch 1/20\n",
      "6/6 [==============================] - 724s 120s/step - loss: 17489158.0000 - accuracy: 0.0933 - mae: 0.5713 - mape: 17489158.0000 - val_loss: 72567224.0000 - val_accuracy: 0.0430 - val_mae: 5.7678 - val_mape: 72567224.0000\n",
      "Epoch 2/20\n",
      "6/6 [==============================] - 723s 120s/step - loss: 24591122.0000 - accuracy: 0.0933 - mae: 0.6673 - mape: 24591122.0000 - val_loss: 40776488.0000 - val_accuracy: 0.0430 - val_mae: 3.6098 - val_mape: 40776488.0000\n",
      "Epoch 3/20\n",
      "6/6 [==============================] - 724s 120s/step - loss: 18672864.0000 - accuracy: 0.0987 - mae: 0.6135 - mape: 18672864.0000 - val_loss: 13785640.0000 - val_accuracy: 0.0430 - val_mae: 1.5392 - val_mape: 13785640.0000\n",
      "Epoch 4/20\n",
      "6/6 [==============================] - 723s 120s/step - loss: 14711562.0000 - accuracy: 0.1013 - mae: 0.5815 - mape: 14711562.0000 - val_loss: 3042634.0000 - val_accuracy: 0.0753 - val_mae: 0.7577 - val_mape: 3042634.0000\n",
      "Epoch 5/20\n",
      "6/6 [==============================] - 723s 120s/step - loss: 13662398.0000 - accuracy: 0.1040 - mae: 0.5382 - mape: 13662398.0000 - val_loss: 4242875.0000 - val_accuracy: 0.0699 - val_mae: 0.9123 - val_mape: 4242875.0000\n",
      "Epoch 6/20\n",
      "6/6 [==============================] - 726s 121s/step - loss: 21488704.0000 - accuracy: 0.0933 - mae: 0.5450 - mape: 21488704.0000 - val_loss: 10529208.0000 - val_accuracy: 0.0484 - val_mae: 1.1037 - val_mape: 10529208.0000\n",
      "Epoch 7/20\n",
      "6/6 [==============================] - 724s 120s/step - loss: 10472544.0000 - accuracy: 0.0987 - mae: 0.5851 - mape: 10472544.0000 - val_loss: 5921363.5000 - val_accuracy: 0.0484 - val_mae: 0.8693 - val_mape: 5921363.5000\n",
      "Epoch 8/20\n",
      "6/6 [==============================] - 722s 120s/step - loss: 17304242.0000 - accuracy: 0.0933 - mae: 0.5934 - mape: 17304242.0000 - val_loss: 4483169.0000 - val_accuracy: 0.0538 - val_mae: 0.6367 - val_mape: 4483169.0000\n",
      "Epoch 9/20\n",
      "6/6 [==============================] - 726s 121s/step - loss: 16188483.0000 - accuracy: 0.1040 - mae: 0.5467 - mape: 16188483.0000 - val_loss: 2883135.7500 - val_accuracy: 0.0484 - val_mae: 0.5717 - val_mape: 2883135.7500\n",
      "Epoch 10/20\n",
      "6/6 [==============================] - 723s 120s/step - loss: 10405170.0000 - accuracy: 0.0960 - mae: 0.5389 - mape: 10405170.0000 - val_loss: 2224403.5000 - val_accuracy: 0.0430 - val_mae: 0.6854 - val_mape: 2224403.5000\n",
      "Epoch 11/20\n",
      "6/6 [==============================] - 724s 120s/step - loss: 11485580.0000 - accuracy: 0.0960 - mae: 0.5842 - mape: 11485580.0000 - val_loss: 1559149.1250 - val_accuracy: 0.0430 - val_mae: 0.6448 - val_mape: 1559149.1250\n",
      "Epoch 12/20\n",
      "6/6 [==============================] - 725s 121s/step - loss: 11833932.0000 - accuracy: 0.1040 - mae: 0.5236 - mape: 11833932.0000 - val_loss: 4916257.5000 - val_accuracy: 0.0591 - val_mae: 0.7630 - val_mape: 4916257.5000\n",
      "Epoch 13/20\n",
      "6/6 [==============================] - 724s 120s/step - loss: 33571220.0000 - accuracy: 0.1067 - mae: 0.5814 - mape: 33571220.0000 - val_loss: 1704002.3750 - val_accuracy: 0.0430 - val_mae: 0.5500 - val_mape: 1704002.3750\n",
      "Epoch 14/20\n",
      "6/6 [==============================] - 723s 120s/step - loss: 15300101.0000 - accuracy: 0.1040 - mae: 0.5230 - mape: 15300101.0000 - val_loss: 1618674.3750 - val_accuracy: 0.0538 - val_mae: 0.6693 - val_mape: 1618674.3750\n",
      "Epoch 15/20\n",
      "6/6 [==============================] - 723s 120s/step - loss: 19766748.0000 - accuracy: 0.1040 - mae: 0.5636 - mape: 19766748.0000 - val_loss: 2631233.5000 - val_accuracy: 0.0538 - val_mae: 0.6719 - val_mape: 2631233.5000\n",
      "Epoch 16/20\n",
      "6/6 [==============================] - 724s 120s/step - loss: 10197507.0000 - accuracy: 0.1040 - mae: 0.5552 - mape: 10197507.0000 - val_loss: 461809.8438 - val_accuracy: 0.0484 - val_mae: 0.5939 - val_mape: 461809.8438\n",
      "Epoch 17/20\n",
      "6/6 [==============================] - 723s 120s/step - loss: 8194841.5000 - accuracy: 0.1013 - mae: 0.5523 - mape: 8194841.5000 - val_loss: 343349.2812 - val_accuracy: 0.0484 - val_mae: 0.5479 - val_mape: 343349.2812\n",
      "Epoch 18/20\n",
      "6/6 [==============================] - 723s 120s/step - loss: 18017084.0000 - accuracy: 0.0933 - mae: 0.5770 - mape: 18017084.0000 - val_loss: 559971.3125 - val_accuracy: 0.0430 - val_mae: 0.5444 - val_mape: 559971.3125\n",
      "Epoch 19/20\n",
      "6/6 [==============================] - 725s 121s/step - loss: 10973677.0000 - accuracy: 0.0960 - mae: 0.5523 - mape: 10973677.0000 - val_loss: 2742794.0000 - val_accuracy: 0.0484 - val_mae: 0.5828 - val_mape: 2742794.0000\n",
      "Epoch 20/20\n",
      "6/6 [==============================] - 724s 120s/step - loss: 7370524.5000 - accuracy: 0.0933 - mae: 0.5544 - mape: 7370524.5000 - val_loss: 955637.6875 - val_accuracy: 0.0430 - val_mae: 0.5563 - val_mape: 955637.6875\n"
     ]
    }
   ],
   "source": [
    "epochs=20\n",
    "history = model.fit(\n",
    "  x = X_train,\n",
    "  y = y_train,\n",
    "  validation_data=(X_test, y_test),\n",
    "  epochs=epochs,\n",
    "  batch_size=64,\n",
    ")\n"
   ]
  },
  {
   "cell_type": "code",
   "execution_count": 27,
   "metadata": {},
   "outputs": [
    {
     "data": {
      "image/png": "[encoded data removed]",
      "text/plain": [
       "<Figure size 800x400 with 2 Axes>"
      ]
     },
     "metadata": {},
     "output_type": "display_data"
    }
   ],
   "source": [
    "acc = history.history['accuracy']\n",
    "val_acc = history.history['val_accuracy']\n",
    "\n",
    "loss = history.history['loss']\n",
    "val_loss = history.history['val_loss']\n",
    "\n",
    "epochs_range = range(epochs)\n",
    "\n",
    "plt.figure(figsize=(8, 4))\n",
    "plt.subplot(1, 2, 1)\n",
    "plt.plot(epochs_range, acc, label='Training Accuracy')\n",
    "plt.plot(epochs_range, val_acc, label='Validation Accuracy')\n",
    "plt.legend(loc='lower right')\n",
    "plt.title('Training and Validation Accuracy')\n",
    "\n",
    "plt.subplot(1, 2, 2)\n",
    "plt.plot(epochs_range, loss, label='Training Loss')\n",
    "plt.plot(epochs_range, val_loss, label='Validation Loss')\n",
    "plt.legend(loc='upper right')\n",
    "plt.title('Training and Validation Loss')\n",
    "plt.show()\n"
   ]
  },
  {
   "cell_type": "code",
   "execution_count": 28,
   "metadata": {},
   "outputs": [
    {
     "name": "stdout",
     "output_type": "stream",
     "text": [
      "6/6 [==============================] - 10s 2s/step\n"
     ]
    }
   ],
   "source": [
    "y_hat = model.predict(X_test)"
   ]
  },
  {
   "cell_type": "code",
   "execution_count": 29,
   "metadata": {},
   "outputs": [
    {
     "data": {
      "text/plain": [
       "[<matplotlib.lines.Line2D at 0x27956946970>]"
      ]
     },
     "execution_count": 29,
     "metadata": {},
     "output_type": "execute_result"
    },
    {
     "data": {
      "image/png": "[encoded data removed]",
      "text/plain": [
       "<Figure size 640x480 with 1 Axes>"
      ]
     },
     "metadata": {},
     "output_type": "display_data"
    }
   ],
   "source": [
    "plt.plot(y_test, y_hat, '.')"
   ]
  }
 ],
 "metadata": {
  "kernelspec": {
   "display_name": "Python 3.8.13 ('alpha-gpu')",
   "language": "python",
   "name": "python3"
  },
  "language_info": {
   "codemirror_mode": {
    "name": "ipython",
    "version": 3
   },
   "file_extension": ".py",
   "mimetype": "text/x-python",
   "name": "python",
   "nbconvert_exporter": "python",
   "pygments_lexer": "ipython3",
   "version": "3.8.13"
  },
  "orig_nbformat": 4,
  "vscode": {
   "interpreter": {
    "hash": "c6d8e4ade5f7d1a191d32d67910a20a02f89798cf21581462d09285d2ea82c74"
   }
  }
 },
 "nbformat": 4,
 "nbformat_minor": 2
}
