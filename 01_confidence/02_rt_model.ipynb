{
 "cells": [
  {
   "cell_type": "markdown",
   "id": "c18a26ca",
   "metadata": {},
   "source": [
    "# RT Model\n",
    "\n",
    "A vanilla RT model for scoring"
   ]
  },
  {
   "cell_type": "markdown",
   "id": "6c60dfb9",
   "metadata": {},
   "source": [
    "## Load sample data"
   ]
  },
  {
   "cell_type": "code",
   "execution_count": 1,
   "id": "d01b75db",
   "metadata": {},
   "outputs": [],
   "source": [
    "file_path = 'thermo_HeLa.ms_data.hdf'"
   ]
  },
  {
   "cell_type": "code",
   "execution_count": 2,
   "id": "96520c33",
   "metadata": {
    "scrolled": false
   },
   "outputs": [],
   "source": [
    "import alphapept.io\n",
    "from alphapept.score import get_ML_features, filter_with_ML, filter_with_x_tandem, cut_global_fdr, train_RF\n",
    "\n",
    "ms_file = alphapept.io.MS_Data_File(file_path)\n",
    "\n",
    "df_org = ms_file.read(dataset_name='peptide_fdr')\n",
    "\n",
    "df = df_org.copy()"
   ]
  },
  {
   "cell_type": "code",
   "execution_count": 3,
   "id": "ccf94b63",
   "metadata": {},
   "outputs": [],
   "source": [
    "import numpy as np\n",
    "import pandas as pd"
   ]
  },
  {
   "cell_type": "code",
   "execution_count": 4,
   "id": "2966c961",
   "metadata": {},
   "outputs": [],
   "source": [
    "df = df[~df['sequence'].str.endswith('_decoy')]\n",
    "df = df[~df['sequence'].str.contains(('ox'))]"
   ]
  },
  {
   "cell_type": "code",
   "execution_count": 5,
   "id": "fca2bc5c",
   "metadata": {},
   "outputs": [
    {
     "name": "stdout",
     "output_type": "stream",
     "text": [
      "49706 26929.94216464115 0.5417845363666589\n"
     ]
    }
   ],
   "source": [
    "max_len = df['sequence_naked'].str.len().max()\n",
    "peptides = df['sequence_naked'].tolist()\n",
    "\n",
    "peps_embedded = np.zeros((len(peptides), max_len), dtype=np.int64)\n",
    "int_array = np.array(peptides).view('uint32')\n",
    "for idx, _ in enumerate(peptides):\n",
    "    peps_embedded[idx, 0:len(_)] = np.array([_]).view('uint32')\n",
    "\n",
    "x = peps_embedded\n",
    "#y = np.random.normal(size=len(x))# df['decoy'].astype('int') #df['rt'].values\n",
    "#y = df['decoy']\n",
    "y = df['rt']\n",
    "y = y / y.max()\n",
    "\n",
    "print(len(y), y.sum(), y.sum()/len(y))\n",
    "\n",
    "unique = np.unique(x)\n",
    "lookup = np.zeros(max(unique)+1)\n",
    "for idx, _ in enumerate(unique):\n",
    "    lookup[_] = idx\n",
    "lookup\n",
    "\n",
    "integer_encoded = lookup[x.flatten()].reshape(x.shape)\n",
    "\n",
    "X = np.zeros((x.shape[0], x.shape[1], len(unique)))\n",
    "\n",
    "XX, YY = np.meshgrid(np.arange(x.shape[1]), np.arange(x.shape[0]))\n",
    "\n",
    "X[YY.flatten(), XX.flatten(), integer_encoded[YY.flatten(), XX.flatten()].astype('int')] = 1\n",
    "\n",
    "from sklearn.model_selection import train_test_split\n",
    "X_train, X_test, y_train, y_test = train_test_split(\n",
    "    X, y, test_size=0.33, random_state=42)"
   ]
  },
  {
   "cell_type": "code",
   "execution_count": 6,
   "id": "d9b99df1",
   "metadata": {},
   "outputs": [],
   "source": [
    "import tensorflow as tf\n",
    "from tensorflow.keras.layers import Embedding, Dense, LSTM, Dropout\n",
    "from tensorflow.keras.losses import MeanSquaredError\n",
    "from tensorflow.keras.models import Sequential\n",
    "from tensorflow.keras.optimizers import Adam\n",
    "from keras.layers import Bidirectional\n",
    "\n",
    "tf.compat.v1.disable_eager_execution()"
   ]
  },
  {
   "cell_type": "code",
   "execution_count": 7,
   "id": "ef7a75e7",
   "metadata": {},
   "outputs": [
    {
     "name": "stdout",
     "output_type": "stream",
     "text": [
      "Model: \"sequential\"\n",
      "_________________________________________________________________\n",
      " Layer (type)                Output Shape              Param #   \n",
      "=================================================================\n",
      " bidirectional (Bidirectiona  (None, 27, 256)          153600    \n",
      " l)                                                              \n",
      "                                                                 \n",
      " bidirectional_1 (Bidirectio  (None, 256)              394240    \n",
      " nal)                                                            \n",
      "                                                                 \n",
      " dropout (Dropout)           (None, 256)               0         \n",
      "                                                                 \n",
      " dense (Dense)               (None, 1)                 257       \n",
      "                                                                 \n",
      "=================================================================\n",
      "Total params: 548,097\n",
      "Trainable params: 548,097\n",
      "Non-trainable params: 0\n",
      "_________________________________________________________________\n"
     ]
    }
   ],
   "source": [
    "LSTM_SIZE = 128\n",
    "\n",
    "n_input = len(df)\n",
    "n_features = max_len\n",
    "\n",
    "model = Sequential()\n",
    "\n",
    "model.add(Bidirectional(LSTM(LSTM_SIZE, return_sequences=True), input_shape = (n_features, len(unique))))\n",
    "model.add(Bidirectional(LSTM(LSTM_SIZE)))\n",
    "model.add(Dropout(0.2))\n",
    "model.add(Dense(1))\n",
    "\n",
    "model.compile(optimizer='adam', loss='mse')\n",
    "\n",
    "model.summary()"
   ]
  },
  {
   "cell_type": "code",
   "execution_count": 9,
   "id": "20eaa08b",
   "metadata": {},
   "outputs": [
    {
     "name": "stdout",
     "output_type": "stream",
     "text": [
      "Train on 26642 samples, validate on 6661 samples\n",
      "Epoch 1/5\n"
     ]
    },
    {
     "name": "stderr",
     "output_type": "stream",
     "text": [
      "2023-01-15 23:36:11.826094: I tensorflow/compiler/mlir/mlir_graph_optimization_pass.cc:357] MLIR V1 optimization pass is not enabled\n",
      "2023-01-15 23:36:11.868815: W tensorflow/tsl/platform/profile_utils/cpu_utils.cc:128] Failed to get CPU frequency: 0 Hz\n",
      "2023-01-15 23:36:11.898100: W tensorflow/c/c_api.cc:291] Operation '{name:'training/Adam/bidirectional_1/forward_lstm_1/lstm_cell_4/bias/v/Assign' id:1661 op device:{requested: '', assigned: ''} def:{{{node training/Adam/bidirectional_1/forward_lstm_1/lstm_cell_4/bias/v/Assign}} = AssignVariableOp[_has_manual_control_dependencies=true, dtype=DT_FLOAT, validate_shape=false](training/Adam/bidirectional_1/forward_lstm_1/lstm_cell_4/bias/v, training/Adam/bidirectional_1/forward_lstm_1/lstm_cell_4/bias/v/Initializer/zeros)}}' was changed by setting attribute after it was run by a session. This mutation will have no effect, and will trigger an error in the future. Either don't modify nodes after running them or create a new session.\n"
     ]
    },
    {
     "name": "stdout",
     "output_type": "stream",
     "text": [
      "26624/26642 [============================>.] - ETA: 0s - loss: 0.0246"
     ]
    },
    {
     "name": "stderr",
     "output_type": "stream",
     "text": [
      "/Users/flq567/miniconda3/envs/alphapept/lib/python3.8/site-packages/keras/engine/training_v1.py:2333: UserWarning: `Model.state_updates` will be removed in a future version. This property should not be used in TensorFlow 2.0, as `updates` are applied automatically.\n",
      "  updates = self.state_updates\n",
      "2023-01-15 23:36:26.772744: W tensorflow/c/c_api.cc:291] Operation '{name:'loss/mul' id:1074 op device:{requested: '', assigned: ''} def:{{{node loss/mul}} = Mul[T=DT_FLOAT, _has_manual_control_dependencies=true](loss/mul/x, loss/dense_loss/value)}}' was changed by setting attribute after it was run by a session. This mutation will have no effect, and will trigger an error in the future. Either don't modify nodes after running them or create a new session.\n"
     ]
    },
    {
     "name": "stdout",
     "output_type": "stream",
     "text": [
      "26642/26642 [==============================] - 17s 640us/sample - loss: 0.0246 - val_loss: 0.0040\n",
      "Epoch 2/5\n",
      "26642/26642 [==============================] - 23s 860us/sample - loss: 0.0043 - val_loss: 0.0038\n",
      "Epoch 3/5\n",
      "26642/26642 [==============================] - 25s 934us/sample - loss: 0.0037 - val_loss: 0.0036\n",
      "Epoch 4/5\n",
      "26642/26642 [==============================] - 26s 986us/sample - loss: 0.0036 - val_loss: 0.0028\n",
      "Epoch 5/5\n",
      "26642/26642 [==============================] - 26s 986us/sample - loss: 0.0032 - val_loss: 0.0024\n"
     ]
    }
   ],
   "source": [
    "batch_size = 256\n",
    "number_of_epochs = 5\n",
    "validation_split = 0.20\n",
    "verbosity_mode = 1\n",
    "\n",
    "# Train the model\n",
    "history = model.fit(X_train, y_train, batch_size=batch_size, epochs=number_of_epochs, verbose=verbosity_mode, validation_split=validation_split)\n",
    "\n",
    "# Test the model after training\n",
    "test_results = model.evaluate(X_test, y_test, verbose=False)"
   ]
  },
  {
   "cell_type": "code",
   "execution_count": 10,
   "id": "36b91507",
   "metadata": {},
   "outputs": [
    {
     "data": {
      "image/png": "[encoded data removed]",
      "text/plain": [
       "<Figure size 720x360 with 1 Axes>"
      ]
     },
     "metadata": {
      "needs_background": "light"
     },
     "output_type": "display_data"
    }
   ],
   "source": [
    "import matplotlib.pyplot as plt\n",
    "\n",
    "plt.figure(figsize=(10,5))\n",
    "plt.plot(history.history['loss'], label='Train')\n",
    "plt.plot(history.history['val_loss'], label='Test')\n",
    "plt.legend()\n",
    "plt.show()"
   ]
  },
  {
   "cell_type": "code",
   "execution_count": 11,
   "id": "32b36c02",
   "metadata": {},
   "outputs": [
    {
     "name": "stderr",
     "output_type": "stream",
     "text": [
      "/Users/flq567/miniconda3/envs/alphapept/lib/python3.8/site-packages/keras/engine/training_v1.py:2357: UserWarning: `Model.state_updates` will be removed in a future version. This property should not be used in TensorFlow 2.0, as `updates` are applied automatically.\n",
      "  updates=self.state_updates,\n",
      "2023-01-15 23:39:10.295425: W tensorflow/c/c_api.cc:291] Operation '{name:'dense/BiasAdd' id:1056 op device:{requested: '', assigned: ''} def:{{{node dense/BiasAdd}} = BiasAdd[T=DT_FLOAT, _has_manual_control_dependencies=true, data_format=\"NHWC\"](dense/MatMul, dense/BiasAdd/ReadVariableOp)}}' was changed by setting attribute after it was run by a session. This mutation will have no effect, and will trigger an error in the future. Either don't modify nodes after running them or create a new session.\n"
     ]
    }
   ],
   "source": [
    "y_hat_test = model.predict(X_test)\n",
    "y_hat_train = model.predict(X_train)"
   ]
  },
  {
   "cell_type": "code",
   "execution_count": 12,
   "id": "0541a2d0",
   "metadata": {
    "scrolled": false
   },
   "outputs": [
    {
     "data": {
      "image/png": "[encoded data removed]",
      "text/plain": [
       "<Figure size 504x504 with 1 Axes>"
      ]
     },
     "metadata": {
      "needs_background": "light"
     },
     "output_type": "display_data"
    },
    {
     "data": {
      "image/png": "[encoded data removed]",
      "text/plain": [
       "<Figure size 504x504 with 1 Axes>"
      ]
     },
     "metadata": {
      "needs_background": "light"
     },
     "output_type": "display_data"
    }
   ],
   "source": [
    "from sklearn.metrics import r2_score\n",
    "\n",
    "plt.figure(figsize=(7,7))\n",
    "plt.plot(y_test, y_hat_test, '.', color = 'b', label='test', alpha=0.5)\n",
    "plt.title(f'Test R2 {r2_score(y_hat_test, y_test)}')\n",
    "plt.legend()\n",
    "plt.show()\n",
    "\n",
    "plt.figure(figsize=(7,7))\n",
    "plt.plot(y_train, y_hat_train, '.', color = 'b', label='train', alpha=0.5)\n",
    "plt.title(f'Train R2 {r2_score(y_hat_train, y_train)}')\n",
    "plt.legend()\n",
    "plt.show()\n",
    "\n"
   ]
  },
  {
   "cell_type": "code",
   "execution_count": 13,
   "id": "4cd865e6",
   "metadata": {},
   "outputs": [],
   "source": [
    "df_all = df_org.copy()"
   ]
  },
  {
   "cell_type": "code",
   "execution_count": 14,
   "id": "b203e292",
   "metadata": {},
   "outputs": [],
   "source": [
    "peptides =df_all['sequence_naked'].tolist()\n",
    "#charges = df['charge'].astype('uint32').tolist()\n",
    "\n",
    "peps_embedded = np.zeros((len(peptides), max_len), dtype=np.int64)\n",
    "int_array = np.array(peptides).view('uint32')\n",
    "for idx, _ in enumerate(peptides):\n",
    "    peps_embedded[idx, 0:len(_)] = np.array([_]).view('uint32')\n",
    "    \n",
    "x = peps_embedded"
   ]
  },
  {
   "cell_type": "code",
   "execution_count": 15,
   "id": "bf962921",
   "metadata": {},
   "outputs": [],
   "source": [
    "integer_encoded = lookup[x.flatten()].reshape(x.shape)\n",
    "\n",
    "X = np.zeros((x.shape[0], x.shape[1], len(unique)))\n",
    "\n",
    "XX, YY = np.meshgrid(np.arange(x.shape[1]), np.arange(x.shape[0]))\n",
    "\n",
    "X[YY.flatten(), XX.flatten(), integer_encoded[YY.flatten(), XX.flatten()].astype('int')] = 1"
   ]
  },
  {
   "cell_type": "code",
   "execution_count": 16,
   "id": "1b03eb2f",
   "metadata": {},
   "outputs": [],
   "source": [
    "x = model.predict(X).flatten()"
   ]
  },
  {
   "cell_type": "code",
   "execution_count": 17,
   "id": "17b732aa",
   "metadata": {
    "scrolled": false
   },
   "outputs": [
    {
     "data": {
      "image/png": "[encoded data removed]",
      "text/plain": [
       "<Figure size 432x288 with 1 Axes>"
      ]
     },
     "metadata": {
      "needs_background": "light"
     },
     "output_type": "display_data"
    }
   ],
   "source": [
    "bins = np.linspace(-0.2,0.2,30)\n",
    "bins = np.linspace(-0.1,1,30)\n",
    "\n",
    "plt.hist(x[~df_all['decoy']], density=True, bins = bins, alpha=0.5, label='Target')\n",
    "plt.hist(x[df_all['decoy']], density=True, bins = bins, alpha=0.5, label='Decoy')\n",
    "\n",
    "plt.legend()\n",
    "plt.show()"
   ]
  },
  {
   "cell_type": "code",
   "execution_count": 18,
   "id": "9968b9f0",
   "metadata": {},
   "outputs": [
    {
     "name": "stderr",
     "output_type": "stream",
     "text": [
      "INFO:root:test\n"
     ]
    }
   ],
   "source": [
    "import logging\n",
    "logger = logging.getLogger()\n",
    "logger.setLevel(logging.INFO)\n",
    "logging.info(\"test\")"
   ]
  },
  {
   "cell_type": "code",
   "execution_count": 19,
   "id": "b5866f23",
   "metadata": {},
   "outputs": [],
   "source": [
    "ml = df_org.copy()\n",
    "ml['rt_scaled'] = ml['rt'] / ml['rt'].max()\n",
    "ml['delta'] = ml['rt_scaled'] - x"
   ]
  },
  {
   "cell_type": "code",
   "execution_count": 20,
   "id": "d861fbd6",
   "metadata": {},
   "outputs": [
    {
     "data": {
      "image/png": "[encoded data removed]",
      "text/plain": [
       "<Figure size 432x288 with 1 Axes>"
      ]
     },
     "metadata": {
      "needs_background": "light"
     },
     "output_type": "display_data"
    }
   ],
   "source": [
    "bins = np.linspace(-0.2,0.2,30)\n",
    "bins = np.linspace(-0.1,1,40)\n",
    "\n",
    "plt.hist(ml[~ml['decoy']]['delta'], density=True, bins = bins, alpha=0.5, label='Target')\n",
    "plt.hist(ml[ml['decoy']]['delta'], density=True, bins = bins, alpha=0.5, label='Decoy')\n",
    "\n",
    "plt.title('Delta to pred')\n",
    "plt.legend()\n",
    "plt.show()"
   ]
  },
  {
   "cell_type": "markdown",
   "id": "c8a60932",
   "metadata": {},
   "source": [
    "## Re-scoring"
   ]
  },
  {
   "cell_type": "code",
   "execution_count": 21,
   "id": "f13e6f8b",
   "metadata": {},
   "outputs": [],
   "source": [
    "df_all = ms_file.read(dataset_name='second_search')\n",
    "df_all['sequence_naked'] = df_all['sequence'].apply(lambda x: ''.join([_ for _ in x if _.isupper()]))\n",
    "df_all['decoy'] = df_all['sequence'].str.endswith('_decoy')"
   ]
  },
  {
   "cell_type": "code",
   "execution_count": 22,
   "id": "30c6e83b",
   "metadata": {},
   "outputs": [],
   "source": [
    "peptides =df_all['sequence_naked'].tolist()\n",
    "#charges = df['charge'].astype('uint32').tolist()\n",
    "\n",
    "peps_embedded = np.zeros((len(peptides), max_len), dtype=np.int64)\n",
    "int_array = np.array(peptides).view('uint32')\n",
    "for idx, _ in enumerate(peptides):\n",
    "    peps_embedded[idx, 0:len(_)] = np.array([_]).view('uint32')\n",
    "    \n",
    "x = peps_embedded\n",
    "\n",
    "integer_encoded = lookup[x.flatten()].reshape(x.shape)\n",
    "\n",
    "X = np.zeros((x.shape[0], x.shape[1], len(unique)))\n",
    "\n",
    "XX, YY = np.meshgrid(np.arange(x.shape[1]), np.arange(x.shape[0]))\n",
    "\n",
    "X[YY.flatten(), XX.flatten(), integer_encoded[YY.flatten(), XX.flatten()].astype('int')] = 1\n",
    "\n",
    "x = model.predict(X).flatten()"
   ]
  },
  {
   "cell_type": "code",
   "execution_count": 24,
   "id": "b29fd7ae",
   "metadata": {},
   "outputs": [
    {
     "ename": "IndexError",
     "evalue": "arrays used as indices must be of integer (or boolean) type",
     "output_type": "error",
     "traceback": [
      "\u001b[0;31m---------------------------------------------------------------------------\u001b[0m",
      "\u001b[0;31mIndexError\u001b[0m                                Traceback (most recent call last)",
      "Input \u001b[0;32mIn [24]\u001b[0m, in \u001b[0;36m<cell line: 1>\u001b[0;34m()\u001b[0m\n\u001b[0;32m----> 1\u001b[0m integer_encoded \u001b[38;5;241m=\u001b[39m \u001b[43mlookup\u001b[49m\u001b[43m[\u001b[49m\u001b[43mx\u001b[49m\u001b[38;5;241;43m.\u001b[39;49m\u001b[43mflatten\u001b[49m\u001b[43m(\u001b[49m\u001b[43m)\u001b[49m\u001b[43m]\u001b[49m\u001b[38;5;241m.\u001b[39mreshape(x\u001b[38;5;241m.\u001b[39mshape)\n\u001b[1;32m      3\u001b[0m X \u001b[38;5;241m=\u001b[39m np\u001b[38;5;241m.\u001b[39mzeros((x\u001b[38;5;241m.\u001b[39mshape[\u001b[38;5;241m0\u001b[39m], x\u001b[38;5;241m.\u001b[39mshape[\u001b[38;5;241m1\u001b[39m], \u001b[38;5;28mlen\u001b[39m(unique)))\n\u001b[1;32m      5\u001b[0m XX, YY \u001b[38;5;241m=\u001b[39m np\u001b[38;5;241m.\u001b[39mmeshgrid(np\u001b[38;5;241m.\u001b[39marange(x\u001b[38;5;241m.\u001b[39mshape[\u001b[38;5;241m1\u001b[39m]), np\u001b[38;5;241m.\u001b[39marange(x\u001b[38;5;241m.\u001b[39mshape[\u001b[38;5;241m0\u001b[39m]))\n",
      "\u001b[0;31mIndexError\u001b[0m: arrays used as indices must be of integer (or boolean) type"
     ]
    }
   ],
   "source": [
    "integer_encoded = lookup[x.flatten()].reshape(x.shape)\n",
    "\n",
    "X = np.zeros((x.shape[0], x.shape[1], len(unique)))\n",
    "\n",
    "XX, YY = np.meshgrid(np.arange(x.shape[1]), np.arange(x.shape[0]))\n",
    "\n",
    "X[YY.flatten(), XX.flatten(), integer_encoded[YY.flatten(), XX.flatten()].astype('int')] = 1"
   ]
  },
  {
   "cell_type": "code",
   "execution_count": null,
   "id": "7f0c01f6",
   "metadata": {},
   "outputs": [],
   "source": [
    "x = model.predict(X).flatten()"
   ]
  },
  {
   "cell_type": "code",
   "execution_count": null,
   "id": "de232c62",
   "metadata": {},
   "outputs": [],
   "source": [
    "ml = df_all.copy()\n",
    "ml['rt_scaled'] = ml['rt'] / ml['rt'].max()\n",
    "ml['super_feature'] = ml['rt_scaled'] - x"
   ]
  },
  {
   "cell_type": "code",
   "execution_count": null,
   "id": "85ffbf30",
   "metadata": {
    "scrolled": false
   },
   "outputs": [],
   "source": [
    "# Dummy score: Having decoy in there:\n",
    "\n",
    "print('--- ML ---')\n",
    "\n",
    "ml = get_ML_features(ml)\n",
    "\n",
    "cv, features = train_RF(ml, plot=True)\n",
    "ml = filter_with_ML(ml, cv, features = features)\n",
    "ml = cut_global_fdr(ml, analyte_level='precursor',  plot=True)"
   ]
  },
  {
   "cell_type": "code",
   "execution_count": null,
   "id": "a0768dce",
   "metadata": {},
   "outputs": [],
   "source": [
    "def embed_peps(peptides, max_len):\n",
    "\n",
    "    #charges = df['charge'].astype('uint32').tolist()\n",
    "\n",
    "    peps_embedded = np.zeros((len(peptides), max_len), dtype=np.int64)\n",
    "    int_array = np.array(peptides).view('uint32')\n",
    "    for idx, _ in enumerate(peptides):\n",
    "        peps_embedded[idx, 0:len(_)] = np.array([_]).view('uint32')\n",
    "\n",
    "    x = peps_embedded\n",
    "\n",
    "    integer_encoded = lookup[x.flatten()].reshape(x.shape)\n",
    "\n",
    "    X = np.zeros((x.shape[0], x.shape[1], len(unique)))\n",
    "\n",
    "    XX, YY = np.meshgrid(np.arange(x.shape[1]), np.arange(x.shape[0]))\n",
    "\n",
    "    X[YY.flatten(), XX.flatten(), integer_encoded[YY.flatten(), XX.flatten()].astype('int')] = 1\n",
    "    \n",
    "    return X"
   ]
  },
  {
   "cell_type": "code",
   "execution_count": null,
   "id": "a7ac402b",
   "metadata": {},
   "outputs": [],
   "source": [
    "model.predict(embed_peps(df_org['sequence_naked'].tolist(), max_len)).flatten()"
   ]
  },
  {
   "cell_type": "markdown",
   "id": "a347346f",
   "metadata": {},
   "source": [
    "## Decoy RT shift"
   ]
  },
  {
   "cell_type": "code",
   "execution_count": null,
   "id": "e7cb4b15",
   "metadata": {},
   "outputs": [],
   "source": [
    "from alphapept.fasta import get_decoy_sequence"
   ]
  },
  {
   "cell_type": "code",
   "execution_count": null,
   "id": "748f7810",
   "metadata": {},
   "outputs": [],
   "source": [
    "df_org['decoy_sequence'] = df_org['sequence_naked'].apply(lambda x: get_decoy_sequence(x, pseudo_reverse=True))"
   ]
  },
  {
   "cell_type": "code",
   "execution_count": null,
   "id": "a326675a",
   "metadata": {},
   "outputs": [],
   "source": [
    "df_org[['sequence_naked', 'decoy_sequence']]"
   ]
  },
  {
   "cell_type": "code",
   "execution_count": null,
   "id": "68f295ab",
   "metadata": {},
   "outputs": [],
   "source": [
    "df_org['rt_pred_target'] = model.predict(embed_peps(df_org['sequence_naked'].tolist(), max_len)).flatten()\n",
    "df_org['rt_pred_decoy'] = model.predict(embed_peps(df_org['decoy_sequence'].tolist(), max_len)).flatten()\n",
    "\n",
    "df_org['rt_pred_target_decoy_delta'] = df_org['rt_pred_target'] - df_org['rt_pred_decoy']"
   ]
  },
  {
   "cell_type": "code",
   "execution_count": null,
   "id": "aa774508",
   "metadata": {},
   "outputs": [],
   "source": [
    "df_org[['sequence_naked', 'decoy_sequence','rt_pred_target','rt_pred_decoy','rt_pred_target_decoy_delta']]"
   ]
  },
  {
   "cell_type": "code",
   "execution_count": null,
   "id": "01025953",
   "metadata": {},
   "outputs": [],
   "source": [
    "(df_org['rt_pred_target_decoy_delta'] / df_org['rt_pred_target']).hist(bins = np.linspace(-1, 1 , 30))\n",
    "plt.title('Relative delta from RT target to RT decoy (Rt_target-Rt_decoy)/Rt_target')\n",
    "plt.show()"
   ]
  },
  {
   "cell_type": "code",
   "execution_count": null,
   "id": "2b757a5b",
   "metadata": {},
   "outputs": [],
   "source": [
    "df_org['rt_pred_target_decoy_delta'].hist(bins = np.linspace(-0.2, 0.2 , 30))\n",
    "abs_mean = df_org['rt_pred_target_decoy_delta'].abs().mean()\n",
    "plt.title(f'Absolute delta from RT target to RT decoy (Rt_target-Rt_decoy) abs_mean {abs_mean:.2f}')\n",
    "plt.show()"
   ]
  },
  {
   "cell_type": "code",
   "execution_count": null,
   "id": "0ee1b894",
   "metadata": {},
   "outputs": [],
   "source": [
    "# Decoy Ruls with minimized shift?"
   ]
  }
 ],
 "metadata": {
  "kernelspec": {
   "display_name": "Python [conda env:alphapept]",
   "language": "python",
   "name": "conda-env-alphapept-py"
  },
  "language_info": {
   "codemirror_mode": {
    "name": "ipython",
    "version": 3
   },
   "file_extension": ".py",
   "mimetype": "text/x-python",
   "name": "python",
   "nbconvert_exporter": "python",
   "pygments_lexer": "ipython3",
   "version": "3.8.15"
  }
 },
 "nbformat": 4,
 "nbformat_minor": 5
}
